{
 "cells": [
  {
   "cell_type": "code",
   "execution_count": 3,
   "metadata": {},
   "outputs": [],
   "source": [
    "import os\n",
    "import pandas as pd"
   ]
  },
  {
   "cell_type": "code",
   "execution_count": 4,
   "metadata": {},
   "outputs": [],
   "source": [
    "path = os.path.join(os.getcwd(), \"Names\")"
   ]
  },
  {
   "cell_type": "code",
   "execution_count": 124,
   "metadata": {},
   "outputs": [],
   "source": [
    "def count_top3(years):\n",
    "    year_path = \"\"\n",
    "    df = pd.DataFrame()\n",
    "    for year in years:\n",
    "        year_path = os.path.join(path, \"yob{}.txt\".format(str(year)))\n",
    "        df = df.append(pd.read_csv(year_path, names=['Name', 'Gender', 'Number'] ))\n",
    "    df = df.groupby(\"Name\").sum().sort_values('Number', ascending=False).head(3)\n",
    "    return df.iloc[:3].index.values"
   ]
  },
  {
   "cell_type": "code",
   "execution_count": 126,
   "metadata": {},
   "outputs": [
    {
     "name": "stdout",
     "output_type": "stream",
     "text": [
      "['Mary' 'John' 'William']\n"
     ]
    }
   ],
   "source": [
    "print(count_top3([1900, 1950, 2000]))"
   ]
  },
  {
   "cell_type": "code",
   "execution_count": 87,
   "metadata": {},
   "outputs": [],
   "source": [
    "def count_dynamics(years):\n",
    "    year_path = \"\"\n",
    "    male_list = []\n",
    "    female_list = []\n",
    "    for year in years:\n",
    "        year_path = os.path.join(path, \"yob{}.txt\".format(str(year)))\n",
    "        df = pd.read_csv(year_path, names=['Name', 'Gender', 'Number'] )\n",
    "        df = df.groupby(\"Gender\").sum()\n",
    "        male_list.append(str(df.loc[\"M\"][0]))\n",
    "        female_list.append(str(df.loc[\"F\"][0]))\n",
    "    return {\"F\": female_list, \"M\": male_list}\n",
    "   \n",
    "    \n",
    "        "
   ]
  },
  {
   "cell_type": "code",
   "execution_count": 88,
   "metadata": {},
   "outputs": [
    {
     "name": "stdout",
     "output_type": "stream",
     "text": [
      "{'F': ['299810', '1713259', '1814922'], 'M': ['150486', '1790871', '1962744']}\n"
     ]
    }
   ],
   "source": [
    "print(count_dynamics([1900, 1950, 2000]))"
   ]
  }
 ],
 "metadata": {
  "kernelspec": {
   "display_name": "Python 3",
   "language": "python",
   "name": "python3"
  },
  "language_info": {
   "codemirror_mode": {
    "name": "ipython",
    "version": 3
   },
   "file_extension": ".py",
   "mimetype": "text/x-python",
   "name": "python",
   "nbconvert_exporter": "python",
   "pygments_lexer": "ipython3",
   "version": "3.6.3"
  }
 },
 "nbformat": 4,
 "nbformat_minor": 2
}
